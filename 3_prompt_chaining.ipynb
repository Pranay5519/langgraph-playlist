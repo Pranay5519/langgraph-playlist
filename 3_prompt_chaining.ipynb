{
 "cells": [
  {
   "cell_type": "markdown",
   "id": "ba447b12",
   "metadata": {},
   "source": [
    "### topic -->blog generation\n",
    "\n",
    "\n",
    "start --> gen outline --> gen blog --> END "
   ]
  },
  {
   "cell_type": "code",
   "execution_count": 34,
   "id": "b4b56438",
   "metadata": {},
   "outputs": [],
   "source": [
    "from langgraph.graph import StateGraph , START  , END\n",
    "from langchain_google_genai import ChatGoogleGenerativeAI\n",
    "from typing import TypedDict\n",
    "from dotenv  import load_dotenv\n",
    "\n",
    "load_dotenv()\n",
    "\n",
    "model = ChatGoogleGenerativeAI(model=\"gemini-1.5-flash\", temperature=0)"
   ]
  },
  {
   "cell_type": "code",
   "execution_count": 35,
   "id": "a515fa7a",
   "metadata": {},
   "outputs": [],
   "source": [
    "class Blog_state(TypedDict) : \n",
    "    title : str\n",
    "    outline : str\n",
    "    content : str\n",
    "    rating : float\n"
   ]
  },
  {
   "cell_type": "code",
   "execution_count": 36,
   "id": "fba7345f",
   "metadata": {},
   "outputs": [],
   "source": [
    "def create_outline(state : Blog_state)->Blog_state:\n",
    "    title = state['title']\n",
    "    prompt = f'Generate and outline for a blog on the topic  {title}'\n",
    "    outline =model.invoke(prompt).content\n",
    "    state['outline'] = outline\n",
    "    return state\n",
    "\n",
    "def create_blog(state : Blog_state)->Blog_state:\n",
    "    title = state['title']\n",
    "    outline = state['outline']\n",
    "    prompt = f'write a detailed blog on the title {title} using the follwing outline :  {outline}'\n",
    "    content = model.invoke(prompt).content\n",
    "    state['content'] = content\n",
    "    return state\n",
    "\n",
    "def rate_blog (state : Blog_state)->Blog_state:\n",
    "    outline = state['outline']\n",
    "    blog = state['content']\n",
    "    prompt = f'Based on the following outline  : {outline} rate this blog out of 10 only give me a float value not feedback needed: {blog}'\n",
    "    rating = model.invoke(prompt).content\n",
    "    state['rating'] = rating\n",
    "    return state\n",
    "    "
   ]
  },
  {
   "cell_type": "code",
   "execution_count": 37,
   "id": "729b8c5f",
   "metadata": {},
   "outputs": [],
   "source": [
    "graph = StateGraph(Blog_state)\n",
    "graph.add_node('create_outline' , create_outline)\n",
    "graph.add_node('create_blog' , create_blog )\n",
    "graph.add_node('rate_blog' , rate_blog)\n",
    "graph.add_edge(START , 'create_outline')\n",
    "graph.add_edge('create_outline', 'create_blog')\n",
    "graph.add_edge('create_blog','rate_blog')\n",
    "graph.add_edge('rate_blog' , END)\n",
    "\n",
    "workflow = graph.compile()\n"
   ]
  },
  {
   "cell_type": "code",
   "execution_count": 38,
   "id": "42c043e7",
   "metadata": {},
   "outputs": [
    {
     "data": {
      "text/plain": [
       "{'title': 'rise of AI ',\n",
       " 'outline': \"## Blog Outline: The Rise of AI - A Transformative Era\\n\\n**I. Introduction (approx. 100 words)**\\n\\n* Hook: Start with a compelling anecdote or statistic showcasing AI's impact in everyday life (e.g., self-driving cars, personalized recommendations, medical diagnoses).\\n* Briefly define Artificial Intelligence and its core components (machine learning, deep learning, natural language processing).\\n* Thesis statement:  The rise of AI is rapidly transforming various aspects of society, presenting both immense opportunities and significant challenges.  This blog will explore key aspects of this transformation.\\n\\n\\n**II. Key Drivers of AI's Rise (approx. 200 words)**\\n\\n* **Increased Computing Power:** Explain Moore's Law and its impact on AI development.  Mention the role of GPUs and specialized AI hardware.\\n* **Big Data Availability:** Discuss the exponential growth of data and its crucial role in training AI models.  Mention sources like social media, IoT devices, and scientific research.\\n* **Algorithmic Advancements:** Highlight breakthroughs in machine learning algorithms (e.g., deep learning, reinforcement learning) that have enabled more sophisticated AI systems.\\n* **Increased Investment:** Discuss the significant funding pouring into AI research and development from both private and public sectors.\\n\\n\\n**III. Impact of AI Across Industries (approx. 300 words)**\\n\\n* **Healthcare:** Discuss AI's applications in diagnostics, drug discovery, personalized medicine, and robotic surgery.  Include both successes and limitations.\\n* **Finance:** Explore AI's use in fraud detection, algorithmic trading, risk management, and customer service (chatbots).\\n* **Transportation:** Focus on self-driving cars, autonomous delivery systems, and traffic optimization.  Address safety concerns and ethical dilemmas.\\n* **Manufacturing:** Highlight AI's role in automation, predictive maintenance, and quality control.\\n* **Other Industries (briefly):** Mention applications in retail (personalized recommendations), education (personalized learning), and entertainment (content creation).\\n\\n\\n**IV. Ethical and Societal Implications (approx. 250 words)**\\n\\n* **Job Displacement:** Discuss the potential for AI to automate jobs and the need for workforce retraining and adaptation.\\n* **Bias and Fairness:** Address the issue of algorithmic bias and its potential for perpetuating societal inequalities.\\n* **Privacy Concerns:** Explore the ethical implications of data collection and use in AI systems.\\n* **Security Risks:** Discuss the potential for AI to be used for malicious purposes (e.g., deepfakes, autonomous weapons).\\n* **Regulation and Governance:**  Briefly discuss the need for responsible AI development and the challenges of regulating this rapidly evolving technology.\\n\\n\\n**V. The Future of AI (approx. 150 words)**\\n\\n* **Emerging Trends:** Briefly discuss areas like general AI, explainable AI (XAI), and quantum computing's potential impact on AI.\\n* **Predictions and Speculations:** Offer cautious predictions about the future trajectory of AI and its potential impact on society.\\n* **Call to Action:** Encourage readers to engage with the topic further, perhaps by suggesting relevant resources or prompting discussion.\\n\\n\\n**VI. Conclusion (approx. 50 words)**\\n\\n* Reiterate the transformative power of AI.\\n* Summarize the key takeaways regarding both the opportunities and challenges presented by AI's rise.\\n* End with a thought-provoking statement about the future of humanity in the age of AI.\\n\\n\\n**VII.  Optional additions:**\\n\\n* Include relevant images and videos to enhance engagement.\\n* Add a section with FAQs about AI.\\n* Include links to further reading and resources.\\n\\n\\nThis outline provides a comprehensive structure for a blog post on the rise of AI.  Remember to tailor the content and length to your target audience and the specific focus you want to emphasize.\",\n",
       " 'content': '## The Rise of AI - A Transformative Era\\n\\n**I. Introduction**\\n\\nImagine a world where self-driving cars navigate bustling city streets, medical diagnoses are made with unprecedented accuracy, and personalized education adapts to each student\\'s unique needs. This isn\\'t science fiction; it\\'s the rapidly unfolding reality of artificial intelligence (AI).  AI, encompassing machine learning (algorithms that learn from data), deep learning (a subset of machine learning using artificial neural networks), and natural language processing (enabling computers to understand and process human language), is transforming society at an unprecedented pace. The rise of AI is rapidly transforming various aspects of society, presenting both immense opportunities and significant challenges. This blog will explore key aspects of this transformative era.\\n\\n\\n**II. Key Drivers of AI\\'s Rise**\\n\\nSeveral factors have converged to propel AI\\'s meteoric rise.  Moore\\'s Law, predicting the doubling of transistor density on integrated circuits every two years, has fueled exponential increases in computing power. This, coupled with the advent of powerful Graphics Processing Units (GPUs) and specialized AI hardware like TPUs (Tensor Processing Units), provides the computational muscle needed to train complex AI models.  Simultaneously, the explosion of \"big data\" – from social media, the Internet of Things (IoT), scientific research, and countless other sources – provides the fuel for these algorithms.  This massive dataset allows AI models to learn patterns and make predictions with increasing accuracy.  Finally, breakthroughs in machine learning algorithms, particularly deep learning and reinforcement learning, have enabled the development of far more sophisticated and capable AI systems.  This progress is further accelerated by massive investment in AI research and development from both private companies and governments worldwide.\\n\\n\\n**III. Impact of AI Across Industries**\\n\\nAI\\'s influence spans numerous sectors. In **healthcare**, AI assists in diagnostics (e.g., identifying cancerous cells in medical images), accelerates drug discovery, enables personalized medicine tailored to individual genetic profiles, and assists in robotic surgery.  However, limitations remain, including the need for robust validation and addressing potential biases in training data.  The **finance** industry leverages AI for fraud detection, algorithmic trading, risk management, and increasingly sophisticated customer service through AI-powered chatbots.  **Transportation** is undergoing a revolution with self-driving cars promising increased safety and efficiency, though safety concerns and ethical dilemmas surrounding accidents remain significant hurdles.  **Manufacturing** benefits from AI-driven automation, predictive maintenance (preventing equipment failures), and enhanced quality control.  Beyond these, AI is transforming **retail** with personalized recommendations, **education** with personalized learning platforms, and **entertainment** with AI-powered content creation tools.\\n\\n\\n**IV. Ethical and Societal Implications**\\n\\nThe rapid advancement of AI presents significant ethical and societal challenges.  **Job displacement** is a major concern, as AI-powered automation threatens to render certain jobs obsolete.  This necessitates proactive measures for workforce retraining and adaptation.  **Algorithmic bias**, stemming from biased training data, can perpetuate and amplify existing societal inequalities.  **Privacy concerns** are paramount, as AI systems often rely on vast amounts of personal data.  The potential for **security risks** is also significant, with malicious actors potentially exploiting AI for deepfakes, autonomous weapons, and other harmful purposes.  Effective **regulation and governance** are crucial to ensure responsible AI development and mitigate these risks, though the rapid pace of innovation presents a significant challenge for policymakers.\\n\\n\\n**V. The Future of AI**\\n\\nEmerging trends point towards even more transformative developments.  Research into **general AI** (AI with human-level intelligence) continues, though remains a long-term goal.  **Explainable AI (XAI)** aims to make AI decision-making more transparent and understandable.  **Quantum computing** holds the potential to dramatically accelerate AI development, enabling the training of even more complex models.  Predicting the future of AI is inherently speculative, but it\\'s likely to become even more integrated into our lives, impacting everything from healthcare and education to work and leisure.  However, careful consideration of ethical implications and proactive mitigation of risks are crucial to ensure a future where AI benefits all of humanity.  Engage with the ongoing conversation; explore resources like the Future of Life Institute and OpenAI to learn more and contribute to shaping a responsible AI future.\\n\\n\\n**VI. Conclusion**\\n\\nThe rise of AI is undeniably transformative, presenting both extraordinary opportunities and significant challenges.  Understanding its potential benefits and proactively addressing its ethical and societal implications is crucial for navigating this new era.  The future of humanity in the age of AI will be shaped by our collective choices and actions today.\\n\\n\\n**(Optional additions would be included here, such as images, FAQs, and further reading links.)**',\n",
       " 'rating': '8.5'}"
      ]
     },
     "execution_count": 38,
     "metadata": {},
     "output_type": "execute_result"
    }
   ],
   "source": [
    "intial_state = {'title' : 'rise of AI ' }\n",
    "final_state = workflow.invoke(intial_state)\n",
    "final_state\n"
   ]
  },
  {
   "cell_type": "code",
   "execution_count": 40,
   "id": "7696af6f",
   "metadata": {},
   "outputs": [
    {
     "name": "stdout",
     "output_type": "stream",
     "text": [
      "8.5\n"
     ]
    }
   ],
   "source": [
    "print(final_state['rating'])"
   ]
  }
 ],
 "metadata": {
  "kernelspec": {
   "display_name": "myvenv",
   "language": "python",
   "name": "python3"
  },
  "language_info": {
   "codemirror_mode": {
    "name": "ipython",
    "version": 3
   },
   "file_extension": ".py",
   "mimetype": "text/x-python",
   "name": "python",
   "nbconvert_exporter": "python",
   "pygments_lexer": "ipython3",
   "version": "3.13.2"
  }
 },
 "nbformat": 4,
 "nbformat_minor": 5
}
