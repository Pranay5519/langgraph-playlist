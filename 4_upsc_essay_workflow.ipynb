{
 "cells": [
  {
   "cell_type": "code",
   "execution_count": 1,
   "id": "b5b2876c",
   "metadata": {},
   "outputs": [
    {
     "data": {
      "text/plain": [
       "True"
      ]
     },
     "execution_count": 1,
     "metadata": {},
     "output_type": "execute_result"
    }
   ],
   "source": [
    "from langgraph.graph import StateGraph , START  , END\n",
    "from langchain_google_genai import ChatGoogleGenerativeAI\n",
    "from typing import TypedDict , Annotated\n",
    "from dotenv  import load_dotenv\n",
    "from pydantic import BaseModel , Field\n",
    "import operator\n",
    "load_dotenv()\n"
   ]
  },
  {
   "cell_type": "code",
   "execution_count": 2,
   "id": "239a54d1",
   "metadata": {},
   "outputs": [],
   "source": [
    "model = ChatGoogleGenerativeAI(model=\"gemini-1.5-flash\")\n"
   ]
  },
  {
   "cell_type": "code",
   "execution_count": 3,
   "id": "9c84bf49",
   "metadata": {},
   "outputs": [],
   "source": [
    "class EvaluationSchema(BaseModel):\n",
    "    feedback : str = Field(description='Detailed feedback for the essay')\n",
    "    score : int=  Field(description='Score out of 10 ', ge=0,le=10)\n",
    "    "
   ]
  },
  {
   "cell_type": "code",
   "execution_count": 4,
   "id": "e62f3117",
   "metadata": {},
   "outputs": [],
   "source": [
    "structured_model = model.with_structured_output(EvaluationSchema)\n",
    "essay = \"\"\"\n",
    "India plays an increasingly significant role in global affairs as a rising economic and political power. Its growing economy, large population, and strategic partnerships position it as a key player in addressing global challenges and shaping the international order. India is a strong advocate for multilateralism, peace, and sustainable development, actively participating in international forums and contributing to global initiatives. \n",
    "Key Aspects of India's Role:\n",
    "Economic Powerhouse:\n",
    "India is one of the fastest-growing major economies in the world, with a large and diverse market, making it an attractive destination for foreign investment and a key player in global trade. \n",
    "Political Influence:\n",
    "As a large democracy and a nuclear-armed state, India's political influence is growing, particularly in the Indo-Pacific region and on the global stage. \n",
    "Regional Power:\n",
    "\n",
    "\"\"\""
   ]
  },
  {
   "cell_type": "code",
   "execution_count": 5,
   "id": "371fe978",
   "metadata": {},
   "outputs": [],
   "source": [
    "#prompt = f\"Evaluate the language quality of the following essay and provide a feedback and assign a score out of 10 { essay}\"\n",
    "#structured_model.invoke(prompt)"
   ]
  },
  {
   "cell_type": "code",
   "execution_count": 6,
   "id": "e5d9bbd2",
   "metadata": {},
   "outputs": [],
   "source": [
    "class UPSCState(TypedDict): \n",
    "    #input\n",
    "    essay : str\n",
    "    #calcualted using input\n",
    "    language_feedback : str\n",
    "    analysis_feedback : str\n",
    "    clarity_feedback : str\n",
    "    individual_score  : Annotated[list[int] , operator.add]\n",
    "    average_score : float"
   ]
  },
  {
   "cell_type": "code",
   "execution_count": null,
   "id": "df72a0c5",
   "metadata": {},
   "outputs": [],
   "source": [
    "def eval_language(state : UPSCState) : \n",
    "    prompt = f\"Evaluate the language quality of the following essay and provide a feedback and assign a score out of 10 {state['essay']}\"\n",
    "    output = structured_model.invoke(prompt)\n",
    "    return {'language_feedback' :[output.feedback] , 'individual_score' : [output.score]}\n",
    "\n",
    "def eval_analysis(state : UPSCState):\n",
    "    prompt = f\"Evaluate the depth of analysis  of the following essay and provide a feedback and assign a score out of 10 {state['essay']}\"\n",
    "    output = structured_model.invoke(prompt)\n",
    "    return {'analysis_feedback' :[output.feedback] , 'individual_score' : [output.score]}\n",
    "\n",
    "def eval_thought(state : UPSCState):\n",
    "    prompt = f\"Evaluate the clarity of thought  of the following essay and provide a feedback and assign a score out of 10 {state['essay']}\"\n",
    "    output = structured_model.invoke(prompt)\n",
    "    return {'clarity_feedback' :[output.feedback] , 'individual_score' : [output.score]}\n",
    "\n",
    "def final_eval(state : UPSCState) : \n",
    "    # summary , average\n",
    "\n",
    "    prompt = f'Based on the following feedbacks create a summarized feedback \\n language feedback - {state[\"language_feedback\"]} \\n depth of analysis feedback - {state[\"analysis_feedback\"]} \\n clarity of thought feedback - {state[\"clarity_feedback\"]}'\n",
    "    overall_feedback = model.invoke(prompt).content\n",
    "\n",
    "    # avg calculate\n",
    "    avg_score = sum(state['individual_score'])/len(state['individual_score'])\n",
    "\n",
    "    return {'overall_feedback': overall_feedback, 'average_score': avg_score}\n",
    "    "
   ]
  },
  {
   "cell_type": "code",
   "execution_count": 8,
   "id": "a256a6bf",
   "metadata": {},
   "outputs": [],
   "source": [
    "# graphs nodes\n",
    "graph = StateGraph(UPSCState)\n",
    "\n",
    "graph.add_node('eval_language' , eval_language)\n",
    "graph.add_node('eval_analysis' ,eval_analysis)\n",
    "graph.add_node('eval_thought' , eval_thought)\n",
    "graph.add_node('final_eval' ,final_eval)\n",
    "\n",
    "\n",
    "#edges\n",
    "graph.add_edge(START , 'eval_language')\n",
    "graph.add_edge(START , 'eval_analysis')\n",
    "graph.add_edge(START , 'eval_thought')\n",
    "\n",
    "graph.add_edge('eval_language' , 'final_eval')\n",
    "graph.add_edge('eval_analysis' , 'final_eval')\n",
    "graph.add_edge('eval_thought', 'final_eval')\n",
    "\n",
    "graph.add_edge('final_eval' ,END)\n",
    "\n",
    "workflow = graph.compile()"
   ]
  },
  {
   "cell_type": "code",
   "execution_count": 9,
   "id": "39c20335",
   "metadata": {},
   "outputs": [
    {
     "data": {
      "text/plain": [
       "{'essay': \"\\nIndia plays an increasingly significant role in global affairs as a rising economic and political power. Its growing economy, large population, and strategic partnerships position it as a key player in addressing global challenges and shaping the international order. India is a strong advocate for multilateralism, peace, and sustainable development, actively participating in international forums and contributing to global initiatives. \\nKey Aspects of India's Role:\\nEconomic Powerhouse:\\nIndia is one of the fastest-growing major economies in the world, with a large and diverse market, making it an attractive destination for foreign investment and a key player in global trade. \\nPolitical Influence:\\nAs a large democracy and a nuclear-armed state, India's political influence is growing, particularly in the Indo-Pacific region and on the global stage. \\nRegional Power:\\n\\n\",\n",
       " 'language_feedback': [\"The essay provides a good overview of India's growing role in global affairs.  The structure is clear, using headings to break down key aspects.  However, the essay lacks depth.  The points about economic power, political influence, and regional power are mentioned but not elaborated upon with specific examples or data.  For instance, mentioning specific trade agreements or political alliances would strengthen the argument.  The concluding paragraph is missing.  To improve, add specific examples and data to support the claims and include a concluding paragraph summarizing the main points and offering a perspective on the future of India's role.\"],\n",
       " 'analysis_feedback': [\"The essay provides a good overview of India's growing role in global affairs, touching upon its economic strength, political influence, and commitment to multilateralism. However,  the analysis lacks depth.  The points mentioned are quite general and don't delve into specific examples, data, or nuanced perspectives. For instance,  the economic powerhouse aspect could benefit from mentioning specific sectors driving growth or discussing challenges faced. Similarly, the political influence section could be strengthened by citing specific diplomatic initiatives or regional partnerships.  To improve the depth of analysis, the essay needs to move beyond broad statements and provide concrete evidence and examples to support its claims. \"],\n",
       " 'clarity_feedback': [\"The essay presents a clear and concise overview of India's growing role in global affairs.  The structure is logical, progressing from a general statement to key aspects like economic power and political influence. However, the section on 'Regional Power' is abruptly cut off, lacking further explanation or examples.  Adding details and specific examples to each aspect would significantly enhance the essay's clarity and impact.  The writing style is straightforward and easy to understand.\"],\n",
       " 'individual_score': [6, 7, 7]}"
      ]
     },
     "execution_count": 9,
     "metadata": {},
     "output_type": "execute_result"
    }
   ],
   "source": [
    "initial_state = {'essay' : essay}\n",
    "final_state = workflow.invoke(initial_state)\n",
    "final_state"
   ]
  },
  {
   "cell_type": "code",
   "execution_count": null,
   "id": "d9ca24dd",
   "metadata": {},
   "outputs": [],
   "source": []
  }
 ],
 "metadata": {
  "kernelspec": {
   "display_name": "myvenv",
   "language": "python",
   "name": "python3"
  },
  "language_info": {
   "codemirror_mode": {
    "name": "ipython",
    "version": 3
   },
   "file_extension": ".py",
   "mimetype": "text/x-python",
   "name": "python",
   "nbconvert_exporter": "python",
   "pygments_lexer": "ipython3",
   "version": "3.11.9"
  }
 },
 "nbformat": 4,
 "nbformat_minor": 5
}
