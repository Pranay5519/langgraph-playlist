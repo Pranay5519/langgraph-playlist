{
 "cells": [
  {
   "cell_type": "code",
   "execution_count": 17,
   "id": "93a6187b",
   "metadata": {},
   "outputs": [],
   "source": [
    "from langgraph.graph import StateGraph , START  , END\n",
    "from langchain_google_genai import ChatGoogleGenerativeAI\n",
    "from typing import TypedDict ,Literal ,Annotated\n",
    "from dotenv  import load_dotenv\n",
    "from pydantic import BaseModel, Field                                   \n",
    "from langchain.schema import BaseMessage\n",
    "from langchain_core.messages import BaseMessage, HumanMessage\n",
    "from langchain_core.messages import BaseMessage, HumanMessage\n",
    "load_dotenv()\n",
    "from langgraph.checkpoint.memory import  MemorySaver"
   ]
  },
  {
   "cell_type": "code",
   "execution_count": 18,
   "id": "5b4d6344",
   "metadata": {},
   "outputs": [],
   "source": [
    "\n",
    "from langgraph.graph.message import add_messages\n",
    "\n",
    "class ChatState(TypedDict):\n",
    "\n",
    "    messages: Annotated[list[BaseMessage], add_messages]"
   ]
  },
  {
   "cell_type": "code",
   "execution_count": 19,
   "id": "21678f2b",
   "metadata": {},
   "outputs": [],
   "source": [
    "model = ChatGoogleGenerativeAI(model=\"gemini-2.5-flash\", temperature=0)"
   ]
  },
  {
   "cell_type": "code",
   "execution_count": 20,
   "id": "c9971c7f",
   "metadata": {},
   "outputs": [],
   "source": [
    "def chat_node(state: ChatState):\n",
    "\n",
    "    # take user query from state\n",
    "    messages = state['messages']\n",
    "\n",
    "    # send to llm\n",
    "    response = model.invoke(messages)\n",
    "\n",
    "    # response store state\n",
    "    return {'messages': [response]}"
   ]
  },
  {
   "cell_type": "code",
   "execution_count": 21,
   "id": "236edca8",
   "metadata": {},
   "outputs": [],
   "source": [
    "checkpointer  = MemorySaver()\n",
    "graph = StateGraph(ChatState)\n",
    "\n",
    "# add nodes\n",
    "graph.add_node('chat_node', chat_node)\n",
    "\n",
    "graph.add_edge(START, 'chat_node')\n",
    "graph.add_edge('chat_node', END)\n",
    "\n",
    "chatbot = graph.compile(checkpointer=checkpointer)"
   ]
  },
  {
   "cell_type": "code",
   "execution_count": 22,
   "id": "c9a13779",
   "metadata": {},
   "outputs": [
    {
     "data": {
      "image/png": "[encoded data removed]",
      "text/plain": [
       "<langgraph.graph.state.CompiledStateGraph object at 0x000001F62D5D56D0>"
      ]
     },
     "execution_count": 22,
     "metadata": {},
     "output_type": "execute_result"
    }
   ],
   "source": [
    "chatbot"
   ]
  },
  {
   "cell_type": "code",
   "execution_count": 24,
   "id": "b27d7412",
   "metadata": {},
   "outputs": [
    {
     "name": "stdout",
     "output_type": "stream",
     "text": [
      "USER : hello my name is pranay\n",
      "Chatbot: Hello Pranay! It's nice to meet you.\n",
      "\n",
      "How can I help you today?\n",
      "USER : what is my name\n",
      "Chatbot: Your name is Pranay.\n",
      "USER : my name is also ronaldo\n",
      "Chatbot: Okay, so your name is Pranay, and also Ronaldo!\n",
      "\n",
      "That's interesting! Do you use both names, or is one a nickname, a middle name, or perhaps a different identity you're using for this conversation?\n",
      "USER : what is my name\n",
      "Chatbot: Based on what you've told me, your name is **Pranay** and also **Ronaldo**.\n",
      "USER : 10  + 10\n",
      "Chatbot: 10 + 10 = **20**\n",
      "USER : multiply the output by 2\n",
      "Chatbot: Okay, the previous output was 20.\n",
      "\n",
      "20 * 2 = **40**\n",
      "USER : what is 10   + 10\n",
      "Chatbot: 10 + 10 = **20**\n",
      "USER : exit\n"
     ]
    }
   ],
   "source": [
    "thread_id = '1'\n",
    "while True : \n",
    "    user_input = input(\"You: \")\n",
    "    print(\"USER :\" ,user_input)\n",
    "    if user_input.strip().lower() == 'exit':\n",
    "        break\n",
    "    config = {'configurable' : {'thread_id': thread_id}}\n",
    "    \n",
    "    response = chatbot.invoke(\n",
    "        {'messages': [HumanMessage(content=user_input)]},\n",
    "        config=config\n",
    "        )\n",
    "    print(f\"Chatbot: {response['messages'][-1].content}\")\n",
    "    \n",
    "    "
   ]
  },
  {
   "cell_type": "code",
   "execution_count": 28,
   "id": "ef281080",
   "metadata": {},
   "outputs": [
    {
     "data": {
      "text/plain": [
       "{'messages': [HumanMessage(content='hello my name is pranay', additional_kwargs={}, response_metadata={}, id='7b393a57-3e26-4073-a758-fc20a5c12c34'),\n",
       "  AIMessage(content=\"Hello Pranay! It's nice to meet you.\\n\\nHow can I help you today?\", additional_kwargs={}, response_metadata={'prompt_feedback': {'block_reason': 0, 'safety_ratings': []}, 'finish_reason': 'STOP', 'model_name': 'gemini-2.5-flash', 'safety_ratings': []}, id='run--5d75d9eb-77c9-48bd-88e7-7a41741523ae-0', usage_metadata={'input_tokens': 7, 'output_tokens': 160, 'total_tokens': 167, 'input_token_details': {'cache_read': 0}, 'output_token_details': {'reasoning': 140}}),\n",
       "  HumanMessage(content='what is my name', additional_kwargs={}, response_metadata={}, id='49f6b7be-53c0-4f2b-bd14-8d8e12c01df3'),\n",
       "  AIMessage(content='Your name is Pranay.', additional_kwargs={}, response_metadata={'prompt_feedback': {'block_reason': 0, 'safety_ratings': []}, 'finish_reason': 'STOP', 'model_name': 'gemini-2.5-flash', 'safety_ratings': []}, id='run--ad103015-b926-463e-a28d-0357efa9e731-0', usage_metadata={'input_tokens': 33, 'output_tokens': 45, 'total_tokens': 78, 'input_token_details': {'cache_read': 0}, 'output_token_details': {'reasoning': 39}}),\n",
       "  HumanMessage(content='my name is also ronaldo', additional_kwargs={}, response_metadata={}, id='721004cc-797e-43da-af84-9e351d50e5a6'),\n",
       "  AIMessage(content=\"Okay, so your name is Pranay, and also Ronaldo!\\n\\nThat's interesting! Do you use both names, or is one a nickname, a middle name, or perhaps a different identity you're using for this conversation?\", additional_kwargs={}, response_metadata={'prompt_feedback': {'block_reason': 0, 'safety_ratings': []}, 'finish_reason': 'STOP', 'model_name': 'gemini-2.5-flash', 'safety_ratings': []}, id='run--d7302404-143d-4b95-a155-320929c4354d-0', usage_metadata={'input_tokens': 47, 'output_tokens': 198, 'total_tokens': 245, 'input_token_details': {'cache_read': 0}, 'output_token_details': {'reasoning': 150}}),\n",
       "  HumanMessage(content='what is my name', additional_kwargs={}, response_metadata={}, id='d343dbe4-040c-4216-a48f-e75c94638043'),\n",
       "  AIMessage(content=\"Based on what you've told me, your name is **Pranay** and also **Ronaldo**.\", additional_kwargs={}, response_metadata={'prompt_feedback': {'block_reason': 0, 'safety_ratings': []}, 'finish_reason': 'STOP', 'model_name': 'gemini-2.5-flash', 'safety_ratings': []}, id='run--b330e22e-0327-47b1-ae12-ca8794ca50a0-0', usage_metadata={'input_tokens': 101, 'output_tokens': 70, 'total_tokens': 171, 'input_token_details': {'cache_read': 0}, 'output_token_details': {'reasoning': 48}}),\n",
       "  HumanMessage(content='10  + 10', additional_kwargs={}, response_metadata={}, id='f63cbc9b-2390-4c1a-9034-8e913211ba62'),\n",
       "  AIMessage(content='10 + 10 = **20**', additional_kwargs={}, response_metadata={'prompt_feedback': {'block_reason': 0, 'safety_ratings': []}, 'finish_reason': 'STOP', 'model_name': 'gemini-2.5-flash', 'safety_ratings': []}, id='run--1e0eb792-2bd7-43bc-b1ef-019d2bab2c2a-0', usage_metadata={'input_tokens': 132, 'output_tokens': 41, 'total_tokens': 173, 'input_token_details': {'cache_read': 0}, 'output_token_details': {'reasoning': 30}}),\n",
       "  HumanMessage(content='multiply the output by 2', additional_kwargs={}, response_metadata={}, id='fd58fdb9-f3c9-4ffd-953f-2bfe751920fe'),\n",
       "  AIMessage(content='Okay, the previous output was 20.\\n\\n20 * 2 = **40**', additional_kwargs={}, response_metadata={'prompt_feedback': {'block_reason': 0, 'safety_ratings': []}, 'finish_reason': 'STOP', 'model_name': 'gemini-2.5-flash', 'safety_ratings': []}, id='run--602be402-c1fc-439b-9728-8dd57d6daff4-0', usage_metadata={'input_tokens': 151, 'output_tokens': 43, 'total_tokens': 194, 'input_token_details': {'cache_read': 0}, 'output_token_details': {'reasoning': 22}}),\n",
       "  HumanMessage(content='what is 10   + 10', additional_kwargs={}, response_metadata={}, id='8318e49c-37b2-4fe0-9b7c-d9eed8ba41fb'),\n",
       "  AIMessage(content='10 + 10 = **20**', additional_kwargs={}, response_metadata={'prompt_feedback': {'block_reason': 0, 'safety_ratings': []}, 'finish_reason': 'STOP', 'model_name': 'gemini-2.5-flash', 'safety_ratings': []}, id='run--5b92f3b4-fb21-44b1-ba73-33b5d647e752-0', usage_metadata={'input_tokens': 184, 'output_tokens': 72, 'total_tokens': 256, 'input_token_details': {'cache_read': 0}, 'output_token_details': {'reasoning': 61}})]}"
      ]
     },
     "execution_count": 28,
     "metadata": {},
     "output_type": "execute_result"
    }
   ],
   "source": [
    "chatbot.get_state(config=config).values"
   ]
  }
 ],
 "metadata": {
  "kernelspec": {
   "display_name": "Python 3",
   "language": "python",
   "name": "python3"
  },
  "language_info": {
   "codemirror_mode": {
    "name": "ipython",
    "version": 3
   },
   "file_extension": ".py",
   "mimetype": "text/x-python",
   "name": "python",
   "nbconvert_exporter": "python",
   "pygments_lexer": "ipython3",
   "version": "3.13.2"
  }
 },
 "nbformat": 4,
 "nbformat_minor": 5
}
