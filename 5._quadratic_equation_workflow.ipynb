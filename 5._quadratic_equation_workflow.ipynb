{
 "cells": [
  {
   "cell_type": "code",
   "execution_count": 4,
   "id": "14ff4542",
   "metadata": {},
   "outputs": [],
   "source": [
    "\n",
    "from langgraph.graph import StateGraph, START, END\n",
    "from typing import TypedDict, Literal"
   ]
  },
  {
   "cell_type": "code",
   "execution_count": 5,
   "id": "be226481",
   "metadata": {},
   "outputs": [],
   "source": [
    "class QuadState(TypedDict):\n",
    "\n",
    "    a: int\n",
    "    b: int\n",
    "    c: int\n",
    "\n",
    "    equation: str\n",
    "    discriminant: float\n",
    "    result: str"
   ]
  },
  {
   "cell_type": "code",
   "execution_count": 6,
   "id": "6c9615c4",
   "metadata": {},
   "outputs": [],
   "source": [
    "def show_equation(state: QuadState):\n",
    "\n",
    "    equation = f'{state[\"a\"]}x2{state[\"b\"]}x{state[\"c\"]}'\n",
    "\n",
    "    return {'equation':equation}\n",
    "\n",
    "def calculate_discriminant(state: QuadState):\n",
    "\n",
    "    discriminant = state[\"b\"]**2 - (4*state[\"a\"]*state[\"c\"])\n",
    "\n",
    "    return {'discriminant': discriminant}\n",
    "\n",
    "def real_roots(state: QuadState):\n",
    "\n",
    "    root1 = (-state[\"b\"] + state[\"discriminant\"]**0.5)/(2*state[\"a\"])\n",
    "    root2 = (-state[\"b\"] - state[\"discriminant\"]**0.5)/(2*state[\"a\"])\n",
    "\n",
    "    result = f'The roots are {root1} and {root2}'\n",
    "\n",
    "    return {'result': result}\n",
    "\n",
    "def repeated_roots(state: QuadState):\n",
    "\n",
    "    root = (-state[\"b\"])/(2*state[\"a\"])\n",
    "\n",
    "    result = f'Only repeating root is {root}'\n",
    "\n",
    "    return {'result': result}\n",
    "\n",
    "def no_real_roots(state: QuadState):\n",
    "\n",
    "    result = f'No real roots'\n",
    "\n",
    "    return {'result': result}\n",
    "\n",
    "def check_condition(state: QuadState) -> Literal[\"real_roots\", \"repeated_roots\", \"no_real_roots\"]:\n",
    "\n",
    "    if state['discriminant'] > 0:\n",
    "        return \"real_roots\"\n",
    "    elif state['discriminant'] == 0:\n",
    "        return \"repeated_roots\"\n",
    "    else:\n",
    "        return \"no_real_roots\""
   ]
  },
  {
   "cell_type": "code",
   "execution_count": 7,
   "id": "a69baa69",
   "metadata": {},
   "outputs": [],
   "source": [
    "graph = StateGraph(QuadState)\n",
    "\n",
    "graph.add_node('show_equation', show_equation)\n",
    "graph.add_node('calculate_discriminant', calculate_discriminant)\n",
    "graph.add_node('real_roots', real_roots)\n",
    "graph.add_node('repeated_roots', repeated_roots)\n",
    "graph.add_node('no_real_roots', no_real_roots)\n",
    "\n",
    "\n",
    "graph.add_edge(START, 'show_equation')\n",
    "graph.add_edge('show_equation', 'calculate_discriminant')\n",
    "\n",
    "graph.add_conditional_edges('calculate_discriminant', check_condition)\n",
    "graph.add_edge('real_roots', END)\n",
    "graph.add_edge('repeated_roots', END)\n",
    "graph.add_edge('no_real_roots', END)\n",
    "\n",
    "workflow = graph.compile()"
   ]
  },
  {
   "cell_type": "code",
   "execution_count": 8,
   "id": "ebb4da52",
   "metadata": {},
   "outputs": [
    {
     "data": {
      "text/plain": [
       "{'a': 2,\n",
       " 'b': 4,\n",
       " 'c': 2,\n",
       " 'equation': '2x24x2',\n",
       " 'discriminant': 0,\n",
       " 'result': 'Only repeating root is -1.0'}"
      ]
     },
     "execution_count": 8,
     "metadata": {},
     "output_type": "execute_result"
    }
   ],
   "source": [
    "\n",
    "initial_state = {\n",
    "    'a': 2, \n",
    "    'b': 4,\n",
    "    'c': 2\n",
    "}\n",
    "\n",
    "workflow.invoke(initial_state)"
   ]
  }
 ],
 "metadata": {
  "kernelspec": {
   "display_name": "myvenv",
   "language": "python",
   "name": "python3"
  },
  "language_info": {
   "codemirror_mode": {
    "name": "ipython",
    "version": 3
   },
   "file_extension": ".py",
   "mimetype": "text/x-python",
   "name": "python",
   "nbconvert_exporter": "python",
   "pygments_lexer": "ipython3",
   "version": "3.13.2"
  }
 },
 "nbformat": 4,
 "nbformat_minor": 5
}
